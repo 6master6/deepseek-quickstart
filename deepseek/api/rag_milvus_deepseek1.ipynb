{
 "cells": [
  {
   "cell_type": "markdown",
   "id": "20549885",
   "metadata": {},
   "source": [
    "# 使用 Milvus 和 DeepSeek 构建 RAG\n",
    "\n",
    "DeepSeek 帮助开发者使用高性能语言模型构建和扩展 AI 应用。它提供高效的推理、灵活的 API 以及先进的专家混合 (MoE) 架构，用于强大的推理和检索任务。\n",
    "\n",
    "在本教程中，我们将展示如何使用 Milvus 和 DeepSeek 构建一个检索增强生成 (RAG) 管道。"
   ]
  },
  {
   "cell_type": "markdown",
   "id": "7394c701",
   "metadata": {},
   "source": [
    "## 准备工作"
   ]
  },
  {
   "cell_type": "markdown",
   "id": "89103a1e",
   "metadata": {},
   "source": [
    "### 依赖与环境"
   ]
  },
  {
   "cell_type": "code",
   "execution_count": 2,
   "id": "9c18d7b4",
   "metadata": {},
   "outputs": [
    {
     "name": "stdout",
     "output_type": "stream",
     "text": [
      "Looking in indexes: https://mirror.baidu.com/pypi/simple/, http://mirrors.aliyun.com/pypi/simple/, https://pypi.tuna.tsinghua.edu.cn/simple/\n",
      "Requirement already satisfied: pymilvus==2.5.10 in /home/xjg/.conda/envs/deepseek/lib/python3.13/site-packages (from pymilvus[model]==2.5.10) (2.5.10)\n",
      "Requirement already satisfied: openai==1.82.0 in /home/xjg/.conda/envs/deepseek/lib/python3.13/site-packages (1.82.0)\n",
      "Requirement already satisfied: requests==2.32.3 in /home/xjg/.conda/envs/deepseek/lib/python3.13/site-packages (2.32.3)\n",
      "Requirement already satisfied: tqdm==4.67.1 in /home/xjg/.conda/envs/deepseek/lib/python3.13/site-packages (4.67.1)\n",
      "Requirement already satisfied: torch==2.7.0 in /home/xjg/.conda/envs/deepseek/lib/python3.13/site-packages (2.7.0)\n",
      "Requirement already satisfied: setuptools>69 in /home/xjg/.conda/envs/deepseek/lib/python3.13/site-packages (from pymilvus==2.5.10->pymilvus[model]==2.5.10) (78.1.1)\n",
      "Requirement already satisfied: grpcio<=1.67.1,>=1.49.1 in /home/xjg/.conda/envs/deepseek/lib/python3.13/site-packages (from pymilvus==2.5.10->pymilvus[model]==2.5.10) (1.67.1)\n",
      "Requirement already satisfied: protobuf>=3.20.0 in /home/xjg/.conda/envs/deepseek/lib/python3.13/site-packages (from pymilvus==2.5.10->pymilvus[model]==2.5.10) (6.31.1)\n",
      "Requirement already satisfied: python-dotenv<2.0.0,>=1.0.1 in /home/xjg/.conda/envs/deepseek/lib/python3.13/site-packages (from pymilvus==2.5.10->pymilvus[model]==2.5.10) (1.1.0)\n",
      "Requirement already satisfied: ujson>=2.0.0 in /home/xjg/.conda/envs/deepseek/lib/python3.13/site-packages (from pymilvus==2.5.10->pymilvus[model]==2.5.10) (5.10.0)\n",
      "Requirement already satisfied: pandas>=1.2.4 in /home/xjg/.conda/envs/deepseek/lib/python3.13/site-packages (from pymilvus==2.5.10->pymilvus[model]==2.5.10) (2.2.3)\n",
      "Requirement already satisfied: milvus-lite>=2.4.0 in /home/xjg/.conda/envs/deepseek/lib/python3.13/site-packages (from pymilvus==2.5.10->pymilvus[model]==2.5.10) (2.4.12)\n",
      "Requirement already satisfied: anyio<5,>=3.5.0 in /home/xjg/.conda/envs/deepseek/lib/python3.13/site-packages (from openai==1.82.0) (4.9.0)\n",
      "Requirement already satisfied: distro<2,>=1.7.0 in /home/xjg/.conda/envs/deepseek/lib/python3.13/site-packages (from openai==1.82.0) (1.9.0)\n",
      "Requirement already satisfied: httpx<1,>=0.23.0 in /home/xjg/.conda/envs/deepseek/lib/python3.13/site-packages (from openai==1.82.0) (0.28.1)\n",
      "Requirement already satisfied: jiter<1,>=0.4.0 in /home/xjg/.conda/envs/deepseek/lib/python3.13/site-packages (from openai==1.82.0) (0.10.0)\n",
      "Requirement already satisfied: pydantic<3,>=1.9.0 in /home/xjg/.conda/envs/deepseek/lib/python3.13/site-packages (from openai==1.82.0) (2.11.5)\n",
      "Requirement already satisfied: sniffio in /home/xjg/.conda/envs/deepseek/lib/python3.13/site-packages (from openai==1.82.0) (1.3.1)\n",
      "Requirement already satisfied: typing-extensions<5,>=4.11 in /home/xjg/.conda/envs/deepseek/lib/python3.13/site-packages (from openai==1.82.0) (4.14.0)\n",
      "Requirement already satisfied: charset_normalizer<4,>=2 in /home/xjg/.conda/envs/deepseek/lib/python3.13/site-packages (from requests==2.32.3) (3.4.2)\n",
      "Requirement already satisfied: idna<4,>=2.5 in /home/xjg/.conda/envs/deepseek/lib/python3.13/site-packages (from requests==2.32.3) (3.10)\n",
      "Requirement already satisfied: urllib3<3,>=1.21.1 in /home/xjg/.conda/envs/deepseek/lib/python3.13/site-packages (from requests==2.32.3) (2.4.0)\n",
      "Requirement already satisfied: certifi>=2017.4.17 in /home/xjg/.conda/envs/deepseek/lib/python3.13/site-packages (from requests==2.32.3) (2025.4.26)\n",
      "Requirement already satisfied: filelock in /home/xjg/.conda/envs/deepseek/lib/python3.13/site-packages (from torch==2.7.0) (3.18.0)\n",
      "Requirement already satisfied: sympy>=1.13.3 in /home/xjg/.conda/envs/deepseek/lib/python3.13/site-packages (from torch==2.7.0) (1.14.0)\n",
      "Requirement already satisfied: networkx in /home/xjg/.conda/envs/deepseek/lib/python3.13/site-packages (from torch==2.7.0) (3.5)\n",
      "Requirement already satisfied: jinja2 in /home/xjg/.conda/envs/deepseek/lib/python3.13/site-packages (from torch==2.7.0) (3.1.6)\n",
      "Requirement already satisfied: fsspec in /home/xjg/.conda/envs/deepseek/lib/python3.13/site-packages (from torch==2.7.0) (2025.5.1)\n",
      "Requirement already satisfied: nvidia-cuda-nvrtc-cu12==12.6.77 in /home/xjg/.conda/envs/deepseek/lib/python3.13/site-packages (from torch==2.7.0) (12.6.77)\n",
      "Requirement already satisfied: nvidia-cuda-runtime-cu12==12.6.77 in /home/xjg/.conda/envs/deepseek/lib/python3.13/site-packages (from torch==2.7.0) (12.6.77)\n",
      "Requirement already satisfied: nvidia-cuda-cupti-cu12==12.6.80 in /home/xjg/.conda/envs/deepseek/lib/python3.13/site-packages (from torch==2.7.0) (12.6.80)\n",
      "Requirement already satisfied: nvidia-cudnn-cu12==9.5.1.17 in /home/xjg/.conda/envs/deepseek/lib/python3.13/site-packages (from torch==2.7.0) (9.5.1.17)\n",
      "Requirement already satisfied: nvidia-cublas-cu12==12.6.4.1 in /home/xjg/.conda/envs/deepseek/lib/python3.13/site-packages (from torch==2.7.0) (12.6.4.1)\n",
      "Requirement already satisfied: nvidia-cufft-cu12==11.3.0.4 in /home/xjg/.conda/envs/deepseek/lib/python3.13/site-packages (from torch==2.7.0) (11.3.0.4)\n",
      "Requirement already satisfied: nvidia-curand-cu12==10.3.7.77 in /home/xjg/.conda/envs/deepseek/lib/python3.13/site-packages (from torch==2.7.0) (10.3.7.77)\n",
      "Requirement already satisfied: nvidia-cusolver-cu12==11.7.1.2 in /home/xjg/.conda/envs/deepseek/lib/python3.13/site-packages (from torch==2.7.0) (11.7.1.2)\n",
      "Requirement already satisfied: nvidia-cusparse-cu12==12.5.4.2 in /home/xjg/.conda/envs/deepseek/lib/python3.13/site-packages (from torch==2.7.0) (12.5.4.2)\n",
      "Requirement already satisfied: nvidia-cusparselt-cu12==0.6.3 in /home/xjg/.conda/envs/deepseek/lib/python3.13/site-packages (from torch==2.7.0) (0.6.3)\n",
      "Requirement already satisfied: nvidia-nccl-cu12==2.26.2 in /home/xjg/.conda/envs/deepseek/lib/python3.13/site-packages (from torch==2.7.0) (2.26.2)\n",
      "Requirement already satisfied: nvidia-nvtx-cu12==12.6.77 in /home/xjg/.conda/envs/deepseek/lib/python3.13/site-packages (from torch==2.7.0) (12.6.77)\n",
      "Requirement already satisfied: nvidia-nvjitlink-cu12==12.6.85 in /home/xjg/.conda/envs/deepseek/lib/python3.13/site-packages (from torch==2.7.0) (12.6.85)\n",
      "Requirement already satisfied: nvidia-cufile-cu12==1.11.1.6 in /home/xjg/.conda/envs/deepseek/lib/python3.13/site-packages (from torch==2.7.0) (1.11.1.6)\n",
      "Requirement already satisfied: triton==3.3.0 in /home/xjg/.conda/envs/deepseek/lib/python3.13/site-packages (from torch==2.7.0) (3.3.0)\n",
      "Requirement already satisfied: pymilvus.model>=0.3.0 in /home/xjg/.conda/envs/deepseek/lib/python3.13/site-packages (from pymilvus[model]==2.5.10) (0.3.2)\n",
      "Requirement already satisfied: httpcore==1.* in /home/xjg/.conda/envs/deepseek/lib/python3.13/site-packages (from httpx<1,>=0.23.0->openai==1.82.0) (1.0.9)\n",
      "Requirement already satisfied: h11>=0.16 in /home/xjg/.conda/envs/deepseek/lib/python3.13/site-packages (from httpcore==1.*->httpx<1,>=0.23.0->openai==1.82.0) (0.16.0)\n",
      "Requirement already satisfied: annotated-types>=0.6.0 in /home/xjg/.conda/envs/deepseek/lib/python3.13/site-packages (from pydantic<3,>=1.9.0->openai==1.82.0) (0.7.0)\n",
      "Requirement already satisfied: pydantic-core==2.33.2 in /home/xjg/.conda/envs/deepseek/lib/python3.13/site-packages (from pydantic<3,>=1.9.0->openai==1.82.0) (2.33.2)\n",
      "Requirement already satisfied: typing-inspection>=0.4.0 in /home/xjg/.conda/envs/deepseek/lib/python3.13/site-packages (from pydantic<3,>=1.9.0->openai==1.82.0) (0.4.1)\n",
      "Requirement already satisfied: numpy>=1.26.0 in /home/xjg/.conda/envs/deepseek/lib/python3.13/site-packages (from pandas>=1.2.4->pymilvus==2.5.10->pymilvus[model]==2.5.10) (2.2.6)\n",
      "Requirement already satisfied: python-dateutil>=2.8.2 in /home/xjg/.conda/envs/deepseek/lib/python3.13/site-packages (from pandas>=1.2.4->pymilvus==2.5.10->pymilvus[model]==2.5.10) (2.9.0.post0)\n",
      "Requirement already satisfied: pytz>=2020.1 in /home/xjg/.conda/envs/deepseek/lib/python3.13/site-packages (from pandas>=1.2.4->pymilvus==2.5.10->pymilvus[model]==2.5.10) (2025.2)\n",
      "Requirement already satisfied: tzdata>=2022.7 in /home/xjg/.conda/envs/deepseek/lib/python3.13/site-packages (from pandas>=1.2.4->pymilvus==2.5.10->pymilvus[model]==2.5.10) (2025.2)\n",
      "Requirement already satisfied: transformers>=4.36.0 in /home/xjg/.conda/envs/deepseek/lib/python3.13/site-packages (from pymilvus.model>=0.3.0->pymilvus[model]==2.5.10) (4.52.4)\n",
      "Requirement already satisfied: onnxruntime in /home/xjg/.conda/envs/deepseek/lib/python3.13/site-packages (from pymilvus.model>=0.3.0->pymilvus[model]==2.5.10) (1.22.0)\n",
      "Requirement already satisfied: scipy>=1.10.0 in /home/xjg/.conda/envs/deepseek/lib/python3.13/site-packages (from pymilvus.model>=0.3.0->pymilvus[model]==2.5.10) (1.15.3)\n",
      "Requirement already satisfied: six>=1.5 in /home/xjg/.conda/envs/deepseek/lib/python3.13/site-packages (from python-dateutil>=2.8.2->pandas>=1.2.4->pymilvus==2.5.10->pymilvus[model]==2.5.10) (1.17.0)\n",
      "Requirement already satisfied: mpmath<1.4,>=1.1.0 in /home/xjg/.conda/envs/deepseek/lib/python3.13/site-packages (from sympy>=1.13.3->torch==2.7.0) (1.3.0)\n",
      "Requirement already satisfied: huggingface-hub<1.0,>=0.30.0 in /home/xjg/.conda/envs/deepseek/lib/python3.13/site-packages (from transformers>=4.36.0->pymilvus.model>=0.3.0->pymilvus[model]==2.5.10) (0.32.3)\n",
      "Requirement already satisfied: packaging>=20.0 in /home/xjg/.conda/envs/deepseek/lib/python3.13/site-packages (from transformers>=4.36.0->pymilvus.model>=0.3.0->pymilvus[model]==2.5.10) (25.0)\n",
      "Requirement already satisfied: pyyaml>=5.1 in /home/xjg/.conda/envs/deepseek/lib/python3.13/site-packages (from transformers>=4.36.0->pymilvus.model>=0.3.0->pymilvus[model]==2.5.10) (6.0.2)\n",
      "Requirement already satisfied: regex!=2019.12.17 in /home/xjg/.conda/envs/deepseek/lib/python3.13/site-packages (from transformers>=4.36.0->pymilvus.model>=0.3.0->pymilvus[model]==2.5.10) (2024.11.6)\n",
      "Requirement already satisfied: tokenizers<0.22,>=0.21 in /home/xjg/.conda/envs/deepseek/lib/python3.13/site-packages (from transformers>=4.36.0->pymilvus.model>=0.3.0->pymilvus[model]==2.5.10) (0.21.1)\n",
      "Requirement already satisfied: safetensors>=0.4.3 in /home/xjg/.conda/envs/deepseek/lib/python3.13/site-packages (from transformers>=4.36.0->pymilvus.model>=0.3.0->pymilvus[model]==2.5.10) (0.5.3)\n",
      "Requirement already satisfied: hf-xet<2.0.0,>=1.1.2 in /home/xjg/.conda/envs/deepseek/lib/python3.13/site-packages (from huggingface-hub<1.0,>=0.30.0->transformers>=4.36.0->pymilvus.model>=0.3.0->pymilvus[model]==2.5.10) (1.1.2)\n",
      "Requirement already satisfied: MarkupSafe>=2.0 in /home/xjg/.conda/envs/deepseek/lib/python3.13/site-packages (from jinja2->torch==2.7.0) (3.0.2)\n",
      "Requirement already satisfied: coloredlogs in /home/xjg/.conda/envs/deepseek/lib/python3.13/site-packages (from onnxruntime->pymilvus.model>=0.3.0->pymilvus[model]==2.5.10) (15.0.1)\n",
      "Requirement already satisfied: flatbuffers in /home/xjg/.conda/envs/deepseek/lib/python3.13/site-packages (from onnxruntime->pymilvus.model>=0.3.0->pymilvus[model]==2.5.10) (25.2.10)\n",
      "Requirement already satisfied: humanfriendly>=9.1 in /home/xjg/.conda/envs/deepseek/lib/python3.13/site-packages (from coloredlogs->onnxruntime->pymilvus.model>=0.3.0->pymilvus[model]==2.5.10) (10.0)\n"
     ]
    }
   ],
   "source": [
    "!pip install \"pymilvus[model]==2.5.10\" openai==1.82.0 requests==2.32.3 tqdm==4.67.1 torch==2.7.0"
   ]
  },
  {
   "cell_type": "markdown",
   "id": "1b3c0999-d670-41a9-afbd-d8a020fe1631",
   "metadata": {},
   "source": [
    "---"
   ]
  },
  {
   "cell_type": "code",
   "execution_count": 3,
   "id": "375ad823",
   "metadata": {},
   "outputs": [],
   "source": [
    "import os\n",
    "\n",
    "# 从环境变量获取 DeepSeek API Key\n",
    "api_key = os.getenv(\"DEEPSEEK_API_KEY\")"
   ]
  },
  {
   "cell_type": "markdown",
   "id": "db44bb26",
   "metadata": {},
   "source": [
    "### 准备数据"
   ]
  },
  {
   "cell_type": "markdown",
   "id": "25f92a95",
   "metadata": {},
   "source": [
    "我们使用 Milvus 文档 2.4.x 中的 FAQ 页面作为我们 RAG 中的私有知识库，这是一个简单 RAG 管道的良好数据源。"
   ]
  },
  {
   "cell_type": "markdown",
   "id": "a1a8b9e2",
   "metadata": {},
   "source": [
    "下载 zip 文件并将文档解压到 `milvus_docs` 文件夹。\n",
    "\n",
    "**建议在命令行执行下面命令**"
   ]
  },
  {
   "cell_type": "code",
   "execution_count": 18,
   "id": "a81fa031",
   "metadata": {},
   "outputs": [],
   "source": [
    "#!wget https://github.com/milvus-io/milvus-docs/releases/download/v2.4.6-preview/milvus_docs_2.4.x_en.zip\n",
    "#!unzip -q milvus_docs_2.4.x_en.zip -d milvus_docs"
   ]
  },
  {
   "cell_type": "markdown",
   "id": "d1198466",
   "metadata": {},
   "source": [
    "我们从 `milvus_docs/en/faq` 文件夹加载所有 markdown 文件。对于每个文档，我们简单地使用 \"# \" 来分割文件中的内容，这样可以大致分离出 markdown 文件中每个主要部分的内容。"
   ]
  },
  {
   "cell_type": "code",
   "execution_count": 5,
   "id": "c9035a5f",
   "metadata": {},
   "outputs": [],
   "source": [
    "from glob import glob\n",
    "\n",
    "text_lines = []\n",
    "#recursive=True 表示递归查找子目录\n",
    "for file_path in glob(\"milvus_docs/en/faq/*.md\", recursive=True):\n",
    "    with open(file_path, \"r\") as file:\n",
    "        file_text = file.read()\n",
    "\n",
    "    text_lines += file_text.split(\"# \")"
   ]
  },
  {
   "cell_type": "code",
   "execution_count": 6,
   "id": "01b73e74-ee7d-4daf-b7db-1c7a10bfc0bf",
   "metadata": {},
   "outputs": [
    {
     "data": {
      "text/plain": [
       "72"
      ]
     },
     "execution_count": 6,
     "metadata": {},
     "output_type": "execute_result"
    }
   ],
   "source": [
    "len(text_lines)"
   ]
  },
  {
   "cell_type": "code",
   "execution_count": 11,
   "id": "83075570",
   "metadata": {},
   "outputs": [
    {
     "data": {
      "text/plain": [
       "['---\\nid: performance_faq.md\\nsummary: Find answers to frequently asked questions about search performance, performance enhancements, and other performance related issues.\\ntitle: Performance FAQ\\n---\\n\\n',\n",
       " 'Performance FAQ\\n\\n<!-- TOC -->\\n\\n\\n<!-- /TOC -->\\n\\n###',\n",
       " 'How to set `nlist` and `nprobe` for IVF indexes?\\n\\nSetting `nlist` is scenario-specific. As a rule of thumb, the recommended value of `nlist` is `4 × sqrt(n)`, where `n` is the total number of entities in a segment.\\n\\nThe size of each segment is determined by the `datacoord.segment.maxSize` parameter, which is set to 512 MB by default. The total number of entities in a segment n can be estimated by dividing `datacoord.segment.maxSize` by the size of each entity.\\n\\nSetting `nprobe` is specific to the dataset and scenario, and involves a trade-off between accuracy and query performance. We recommend finding the ideal value through repeated experimentation.\\n\\nThe following charts are results from a test running on the sift50m dataset and IVF_SQ8 index, which compares recall and query performance of different `nlist`/`nprobe` pairs.\\n\\n![Accuracy test](../../../assets/accuracy_nlist_nprobe.png \"Accuracy test.\")\\n![Performance test](../../../assets/performance_nlist_nprobe.png \"Performance test.\")\\n\\n###',\n",
       " 'Why do queries sometimes take longer on smaller datasets?\\n\\nQuery operations are conducted on segments. indexes reduce the amount of time it takes to query a segment. If a segment has not been indexed, Milvus resorts to brute-force search on the raw data—drastically increasing query time.\\n\\nTherefore, it usually takes longer to query on a small dataset (collection) because it has not built index. This is because the sizes of its segments have not reached the index-building threshold set by `rootCoord.minSegmentSizeToEnableindex`. Call `create_index()` to force Milvus to index segments that have reached the threshold but not yet been automatically indexed, significantly improving query performance.\\n\\n\\n###',\n",
       " 'What factors impact CPU usage?\\n\\nCPU usage increases when Milvus is building indexes or running queries. In general, index building is CPU intensive except when using Annoy, which runs on a single thread.\\n\\nWhen running queries, CPU usage is affected by `nq` and `nprobe`. When `nq` and `nprobe` are small, concurrency is low and CPU usage stays low.\\n\\n###',\n",
       " 'Does simultaneously inserting data and searching impact query performance?\\n\\nInsert operations are not CPU intensive. However, because new segments may not have reached the threshold for index building, Milvus resorts to brute-force search—significantly impacting query performance.\\n\\nThe `rootcoord.minSegmentSizeToEnableIndex` parameter determines the index-building threshold for a segment, and is set to 1024 rows by default. See [System Configuration](system_configuration.md) for more information.\\n\\n###',\n",
       " 'Still have questions?\\n\\nYou can:\\n\\n- Check out [Milvus](https://github.com/milvus-io/milvus/issues) on GitHub. Feel free to ask questions, share ideas, and help others.\\n- Join our [Slack Channel](https://join.slack.com/t/milvusio/shared_invite/enQtNzY1OTQ0NDI3NjMzLWNmYmM1NmNjOTQ5MGI5NDhhYmRhMGU5M2NhNzhhMDMzY2MzNDdlYjM5ODQ5MmE3ODFlYzU3YjJkNmVlNDQ2ZTk) to find support and engage with our open-source community.\\n',\n",
       " \"---\\nid: product_faq.md\\nsummary: Find answers to frequently asked questions about the world's most advanced vector database.\\ntitle: Product FAQ\\n---\\n\\n\",\n",
       " 'Product FAQ\\n\\n<!-- TOC -->\\n\\n\\n\\n<!-- /TOC -->\\n\\n###',\n",
       " \"How much does Milvus cost?\\n\\nMilvus is a 100% free open-source project.\\n\\nPlease adhere to [Apache License 2.0](http://www.apache.org/licenses/LICENSE-2.0) when using Milvus for production or distribution purposes.\\n\\nZilliz, the company behind Milvus, also offers a fully managed cloud version of the platform for those that don't want to build and maintain their own distributed instance. [Zilliz Cloud](https://zilliz.com/cloud) automatically maintains data reliability and allows users to pay only for what they use.\\n\\n###\"]"
      ]
     },
     "execution_count": 11,
     "metadata": {},
     "output_type": "execute_result"
    }
   ],
   "source": [
    "text_lines[:10]"
   ]
  },
  {
   "cell_type": "markdown",
   "id": "4cc2a0b8",
   "metadata": {},
   "source": [
    "### 准备 LLM 和 Embedding 模型"
   ]
  },
  {
   "cell_type": "markdown",
   "id": "19eaff7a",
   "metadata": {},
   "source": [
    "DeepSeek 支持 OpenAI 风格的 API，您可以使用相同的 API 进行微小调整来调用 LLM。"
   ]
  },
  {
   "cell_type": "code",
   "execution_count": 12,
   "id": "b994eb47",
   "metadata": {},
   "outputs": [],
   "source": [
    "from openai import OpenAI\n",
    "\n",
    "deepseek_client = OpenAI(\n",
    "    api_key=api_key,\n",
    "    base_url=\"https://api.siliconflow.cn/v1\",\n",
    "    # base_url=\"https://api.deepseek.com/v1\",  # DeepSeek API 的基地址\n",
    ")"
   ]
  },
  {
   "cell_type": "markdown",
   "id": "1cc5a5e2",
   "metadata": {},
   "source": [
    "定义一个 embedding 模型，使用 `milvus_model` 来生成文本嵌入。我们以 `DefaultEmbeddingFunction` 模型为例，这是一个预训练的轻量级嵌入模型。"
   ]
  },
  {
   "cell_type": "code",
   "execution_count": 19,
   "id": "588b6d8e",
   "metadata": {},
   "outputs": [
    {
     "name": "stdout",
     "output_type": "stream",
     "text": [
      "当前IP: 66.98.125.172\n"
     ]
    }
   ],
   "source": [
    "from pymilvus import model as milvus_model\n",
    "proxies = {\n",
    "    'http': 'socks5h://localhost:1080',\n",
    "    'https': 'socks5h://localhost:1080'\n",
    "}\n",
    "# 设置代理\n",
    "os.environ[\"HTTP_PROXY\"] = \"socks5h://localhost:1080\"  # HTTP 代理\n",
    "os.environ[\"HTTPS_PROXY\"] = \"socks5h://localhost:1080\"  # HTTPS 代理\n",
    "\n",
    "# 验证代理是否生效（可选）\n",
    "try:\n",
    "    import requests\n",
    "    print(\"当前IP:\", requests.get(\"https://ipinfo.io/json\", timeout=5).json()['ip'])\n",
    "except Exception as e:\n",
    "    print(\"代理验证失败:\", e)\n",
    "\n",
    "# ~/.cache/huggingface/hub/\n",
    "embedding_model = milvus_model.DefaultEmbeddingFunction()"
   ]
  },
  {
   "cell_type": "code",
   "execution_count": 20,
   "id": "88a27567",
   "metadata": {},
   "outputs": [
    {
     "name": "stdout",
     "output_type": "stream",
     "text": [
      "768\n",
      "[-0.04836059  0.07163021 -0.01130063 -0.03789341 -0.03320651 -0.01318453\n",
      " -0.03041721 -0.02269495 -0.02317858 -0.00426026]\n"
     ]
    }
   ],
   "source": [
    "test_embedding = embedding_model.encode_queries([\"This is a test\"])[0]\n",
    "embedding_dim = len(test_embedding)\n",
    "print(embedding_dim)\n",
    "print(test_embedding[:10])"
   ]
  },
  {
   "cell_type": "code",
   "execution_count": 24,
   "id": "c4fc02d3",
   "metadata": {},
   "outputs": [
    {
     "name": "stdout",
     "output_type": "stream",
     "text": [
      "[-0.04836059  0.07163021 -0.01130063 -0.03789341 -0.03320651 -0.01318453\n",
      " -0.03041721 -0.02269495 -0.02317858 -0.00426026]\n"
     ]
    }
   ],
   "source": [
    "print(embedding_model.encode_queries([\"This is a test\"])[0][:10])"
   ]
  },
  {
   "cell_type": "code",
   "execution_count": 28,
   "id": "f7683f3a-d9e4-4c8e-9a66-c341911bef6b",
   "metadata": {},
   "outputs": [
    {
     "name": "stdout",
     "output_type": "stream",
     "text": [
      "[ 0.03809544  0.01529606  0.00836542 -0.05775028 -0.00389817  0.0049851\n",
      " -0.00572032 -0.03178086 -0.00511001 -0.0215306 ]\n"
     ]
    }
   ],
   "source": [
    "test_embedding_0 = embedding_model.encode_queries([\"This is\"])[0]\n",
    "print(test_embedding_0[:10])"
   ]
  },
  {
   "cell_type": "markdown",
   "id": "5a778887",
   "metadata": {},
   "source": [
    "## 将数据加载到 Milvus"
   ]
  },
  {
   "cell_type": "markdown",
   "id": "02b23a24",
   "metadata": {},
   "source": [
    "### 创建 Collection"
   ]
  },
  {
   "cell_type": "code",
   "execution_count": 30,
   "id": "95e84b8c",
   "metadata": {},
   "outputs": [],
   "source": [
    "from pymilvus import MilvusClient\n",
    "\n",
    "milvus_client = MilvusClient(uri=\"./milvus_demo.db\")\n",
    "\n",
    "collection_name = \"my_rag_collection\""
   ]
  },
  {
   "cell_type": "markdown",
   "id": "68648561",
   "metadata": {},
   "source": [
    "关于 `MilvusClient` 的参数：\n",
    "\n",
    "*   将 `uri` 设置为本地文件，例如 `./milvus.db`，是最方便的方法，因为它会自动利用 Milvus Lite 将所有数据存储在此文件中。\n",
    "*   如果您有大规模数据，可以在 Docker 或 Kubernetes 上设置性能更高的 Milvus 服务器。在此设置中，请使用服务器 URI，例如 `http://localhost:19530`，作为您的 `uri`。\n",
    "*   如果您想使用 Zilliz Cloud（Milvus 的完全托管云服务），请调整 `uri` 和 `token`，它们对应 Zilliz Cloud 中的 Public Endpoint 和 Api key。"
   ]
  },
  {
   "cell_type": "markdown",
   "id": "5ce1bf3e",
   "metadata": {},
   "source": [
    "检查 collection 是否已存在，如果存在则删除它。"
   ]
  },
  {
   "cell_type": "code",
   "execution_count": 32,
   "id": "aee85c08",
   "metadata": {},
   "outputs": [],
   "source": [
    "if milvus_client.has_collection(collection_name):\n",
    "    milvus_client.drop_collection(collection_name)"
   ]
  },
  {
   "cell_type": "markdown",
   "id": "73eb379f",
   "metadata": {},
   "source": [
    "创建一个具有指定参数的新 collection。\n",
    "\n",
    "如果我们不指定任何字段信息，Milvus 将自动创建一个默认的 `id` 字段作为主键，以及一个 `vector` 字段来存储向量数据。一个保留的 JSON 字段用于存储非 schema 定义的字段及其值。\n",
    "\n",
    "`metric_type` (距离度量类型):\n",
    "     作用：定义如何计算向量之间的相似程度。\n",
    "     例如：`IP` (内积) - 值越大通常越相似；`L2` (欧氏距离) - 值越小越相似；`COSINE` (余弦相似度) - 通常转换为距离，值越小越相似。\n",
    "     选择依据：根据你的嵌入模型的特性和期望的相似性定义来选择。\n",
    "\n",
    " `consistency_level` (一致性级别):\n",
    "     作用：定义数据写入后，读取操作能多快看到这些新数据。\n",
    "     例如：\n",
    "         `Strong` (强一致性): 总是读到最新数据，可能稍慢。\n",
    "         `Bounded` (有界过期): 可能读到几秒内旧数据，性能较好 (默认)。\n",
    "         `Session` (会话一致性): 自己写入的自己能立刻读到。\n",
    "         `Eventually` (最终一致性): 最终会读到新数据，但没时间保证，性能最好。\n",
    "     选择依据：在数据实时性要求和系统性能之间做权衡。\n",
    "\n",
    "简单来说：\n",
    " `metric_type`：怎么算相似。\n",
    " `consistency_level`：新数据多久能被读到。"
   ]
  },
  {
   "cell_type": "code",
   "execution_count": 33,
   "id": "bd0b2df8",
   "metadata": {},
   "outputs": [],
   "source": [
    "milvus_client.create_collection(\n",
    "    collection_name=collection_name,\n",
    "    dimension=embedding_dim,\n",
    "    metric_type=\"IP\",  # 内积距离(Inner Product)，表示使用内积作为向量相似度计算方式。其他可选值包括：\"L2\": 欧氏距离\"JACCARD\": Jaccard相似度\"HAMMING\": 汉明距离等\n",
    "    consistency_level=\"Strong\",  # 支持的值为 (`\"Strong\"`, `\"Session\"`, `\"Bounded\"`, `\"Eventually\"`)。更多详情请参见 https://milvus.io/docs/consistency.md#Consistency-Level。\n",
    ")"
   ]
  },
  {
   "cell_type": "markdown",
   "id": "9c15bafb",
   "metadata": {},
   "source": [
    "### 插入数据"
   ]
  },
  {
   "cell_type": "markdown",
   "id": "171d3b35",
   "metadata": {},
   "source": [
    "遍历文本行，创建嵌入，然后将数据插入 Milvus。\n",
    "\n",
    "这里有一个新字段 `text`，它是在 collection schema 中未定义的字段。它将自动添加到保留的 JSON 动态字段中，该字段在高级别上可以被视为普通字段。"
   ]
  },
  {
   "cell_type": "code",
   "execution_count": 39,
   "id": "ad077094",
   "metadata": {},
   "outputs": [
    {
     "name": "stderr",
     "output_type": "stream",
     "text": [
      "Creating embeddings: 100%|██████████| 72/72 [00:00<00:00, 719023.54it/s]\n"
     ]
    },
    {
     "data": {
      "text/plain": [
       "{'insert_count': 72, 'ids': [0, 1, 2, 3, 4, 5, 6, 7, 8, 9, 10, 11, 12, 13, 14, 15, 16, 17, 18, 19, 20, 21, 22, 23, 24, 25, 26, 27, 28, 29, 30, 31, 32, 33, 34, 35, 36, 37, 38, 39, 40, 41, 42, 43, 44, 45, 46, 47, 48, 49, 50, 51, 52, 53, 54, 55, 56, 57, 58, 59, 60, 61, 62, 63, 64, 65, 66, 67, 68, 69, 70, 71], 'cost': 0}"
      ]
     },
     "execution_count": 39,
     "metadata": {},
     "output_type": "execute_result"
    }
   ],
   "source": [
    "from tqdm import tqdm\n",
    "\n",
    "data = []\n",
    "\n",
    "doc_embeddings = embedding_model.encode_documents(text_lines)\n",
    "\n",
    "for i, line in enumerate(tqdm(text_lines, desc=\"Creating embeddings\")):\n",
    "    data.append({\"id\": i, \"vector\": doc_embeddings[i], \"text\": line})\n",
    "\n",
    "milvus_client.insert(collection_name=collection_name, data=data)"
   ]
  },
  {
   "cell_type": "code",
   "execution_count": 40,
   "id": "404f6c62",
   "metadata": {},
   "outputs": [
    {
     "name": "stdout",
     "output_type": "stream",
     "text": [
      "[ 3.64387756e-02  1.87565659e-02 -6.07334180e-02  1.07501189e-02\n",
      " -2.41349344e-02 -2.24188704e-02 -1.99645007e-02 -7.93166939e-03\n",
      "  1.30741124e-02 -2.98628089e-02  5.90827975e-02  5.61169724e-02\n",
      "  2.20359853e-02 -5.40012371e-02  2.51256372e-02 -3.43917863e-02\n",
      " -1.41508034e-02  3.87806735e-02 -5.51301454e-02 -4.49302762e-02\n",
      "  2.11174232e-02  7.33757826e-02 -1.24565100e-02 -3.27034720e-02\n",
      " -8.54708460e-03 -2.32028741e-03  4.62400901e-03  1.16007887e-02\n",
      " -3.65609560e-03 -3.51445927e-02 -1.09075516e-01 -1.91097857e-02\n",
      "  6.45824601e-03 -3.40624396e-02  8.59460070e-02 -2.30408293e-02\n",
      " -2.75090201e-02  3.99014402e-02 -1.17907164e-02  4.42742232e-03\n",
      " -9.60659753e-03 -3.76845479e-02  1.90371702e-02  1.68622605e-02\n",
      " -1.03040187e-02 -6.45976066e-02  8.60744487e-02  4.17577893e-02\n",
      "  4.47955893e-02  1.85703010e-02  7.34997951e-03  6.66100731e-03\n",
      "  7.31398937e-02 -7.34149213e-03  1.75063637e-02 -5.28077399e-02\n",
      " -1.31098797e-02  7.54174796e-02 -9.24142969e-03 -4.71918478e-02\n",
      "  3.80687825e-02 -7.90229837e-03  7.45715570e-02 -5.79738855e-02\n",
      " -5.95210035e-02 -6.05410932e-02 -1.76403828e-03 -5.33231036e-02\n",
      " -1.46115442e-02  2.50020160e-02  1.61116515e-02  2.11572945e-03\n",
      " -1.18530870e-02  5.49147729e-02  1.10078447e-02  5.87111641e-02\n",
      " -8.97979189e-04  4.19724203e-02 -1.72634575e-02  3.31123510e-02\n",
      "  3.17061590e-02 -4.41313258e-02  1.25863379e-02  2.24219268e-02\n",
      "  9.69645791e-03  3.50969192e-04 -7.15257334e-03  1.41250742e-02\n",
      " -3.49676014e-02 -8.64528034e-03  1.54127297e-02 -4.46135045e-02\n",
      " -5.01036522e-02  3.71242113e-03  8.54606202e-02  4.89413451e-02\n",
      "  1.38899736e-03 -3.51741097e-02  1.24415241e-02  2.37076499e-02\n",
      "  3.32219805e-02 -4.33097653e-02  1.38342379e-02 -4.98974406e-02\n",
      "  4.69113103e-03 -6.71584865e-02 -8.29016776e-03 -4.56314554e-02\n",
      " -7.11925779e-02 -1.54448591e-02 -4.13593511e-02 -4.57264535e-02\n",
      "  6.01453607e-02  3.43742674e-02  4.83366750e-02  1.89911595e-02\n",
      "  3.04702767e-02 -3.82148622e-02  5.62246704e-02 -3.05590887e-02\n",
      " -1.19754663e-02  4.81754393e-02  4.49737558e-03  4.84310525e-03\n",
      " -1.56671081e-02  4.70815523e-02  9.21509047e-02 -2.88859038e-02\n",
      "  4.56249847e-02  5.03344029e-02  1.15563732e-02  2.99453293e-02\n",
      " -1.35279305e-02 -2.62543754e-02 -2.08200712e-02  3.37677453e-02\n",
      "  1.89434881e-03  6.63144700e-03  3.55438144e-03 -4.82256397e-02\n",
      "  3.02023299e-02  5.99875777e-03 -1.06981618e-02  1.04312399e-02\n",
      "  4.58406406e-04  1.45298817e-02 -4.78683192e-02 -4.18621675e-02\n",
      " -3.27902586e-03  3.60324006e-02 -5.52971745e-03  6.56440365e-02\n",
      "  3.15411781e-02  3.71753871e-02 -2.71965902e-02  3.01993135e-02\n",
      " -1.28910669e-02 -2.10767515e-02  9.31570477e-03  2.72098948e-03\n",
      " -1.94412861e-02  8.88265243e-03 -2.12612162e-03  1.28547798e-02\n",
      "  2.22608032e-02  3.34586764e-02  1.02633966e-02  5.66529681e-03\n",
      "  3.32040670e-02  4.25865510e-02  2.38275077e-02  4.58400575e-02\n",
      "  1.55162331e-02  1.04676410e-02 -2.08325952e-02 -3.27413739e-02\n",
      "  1.12303342e-02  6.63456445e-02 -2.02772239e-02 -4.93688859e-02\n",
      "  2.14701893e-02 -8.11074212e-02 -2.09208157e-02 -1.37324620e-02\n",
      " -6.10630455e-02 -1.14786158e-02 -3.41551691e-02  2.00870333e-02\n",
      " -2.05594703e-03  1.45420471e-02 -4.14711909e-02 -3.12336578e-02\n",
      " -1.55336989e-02  2.47628872e-02  2.28766486e-03  4.33298047e-02\n",
      "  3.89478851e-02  2.31155983e-02  4.50769730e-02  4.74400060e-02\n",
      " -3.62978788e-02 -2.14274556e-02 -2.97865742e-02  6.80038976e-02\n",
      "  1.50192446e-02  2.91718282e-02 -2.34674726e-02  1.23867925e-05\n",
      "  5.22379855e-02  1.10180127e-02  3.43380328e-02  7.96050519e-02\n",
      "  8.74760344e-02 -1.23438385e-02  7.99268468e-02  7.26016222e-03\n",
      " -1.44831202e-02  2.26643321e-02 -8.51856993e-03  2.72979781e-02\n",
      " -3.53183053e-02  5.77812411e-02  8.33545483e-03 -1.30139485e-02\n",
      "  9.03825645e-04 -1.84617485e-02 -2.91403813e-02 -4.51489736e-04\n",
      "  5.26910923e-02 -2.96061800e-02 -1.67056952e-02  3.35080292e-02\n",
      " -1.88194772e-02 -4.50880878e-02  4.05866756e-02 -6.67104402e-02\n",
      "  4.71997380e-02 -4.38087895e-02 -2.83806072e-03  9.90978063e-03\n",
      "  1.41769620e-02  7.05278164e-02  1.63733528e-02  2.85254471e-02\n",
      " -2.81911700e-02  3.78756745e-03  1.83596897e-02 -1.74429672e-04\n",
      " -1.36911443e-04 -8.82724050e-02 -4.17901648e-02 -5.25599193e-02\n",
      " -2.92166342e-04  7.84989170e-02 -3.29986166e-02  4.13970395e-02\n",
      "  5.44623566e-02  1.66460298e-02  5.02121105e-02 -7.72758265e-02\n",
      "  3.98505926e-02 -8.97310896e-03 -6.24074535e-02  3.15585214e-02\n",
      " -3.06398194e-02  6.64283847e-03  3.42398953e-02 -6.41196821e-02\n",
      " -8.75173391e-03  1.17010854e-02 -2.07383539e-02 -4.33315843e-02\n",
      "  2.17025698e-02 -3.62329313e-02  4.72090046e-02  4.00238260e-02\n",
      " -3.94315364e-02  7.32593140e-03  6.81044994e-02 -1.02118188e-02\n",
      " -2.52621243e-02  7.34632401e-03  4.71346836e-03  3.21723832e-02\n",
      "  9.84086751e-03 -1.50089005e-03 -3.21957599e-02  2.61397416e-02\n",
      "  3.79018077e-04 -9.82960549e-04 -3.08316799e-02 -3.12846554e-02\n",
      " -4.39937770e-02 -1.01305217e-02  4.95231882e-02 -5.66221171e-03\n",
      "  6.75560348e-02 -1.98014118e-02 -9.58110631e-03 -6.34710925e-02\n",
      " -7.98719466e-03 -1.38388712e-02 -4.00771354e-02  2.02422688e-02\n",
      " -4.87520619e-03 -2.60937142e-02 -6.04430948e-02  2.52418240e-02\n",
      " -1.73817024e-02 -2.47561269e-02  5.39292598e-02 -6.38788320e-03\n",
      " -4.67988071e-02  4.41049832e-03 -7.03871153e-03  3.09747484e-02\n",
      " -1.15906770e-02  4.32770222e-03  5.83974578e-03 -2.85466741e-02\n",
      " -2.98387550e-02 -5.21627724e-02 -5.15160580e-04  1.68656362e-02\n",
      "  1.10831633e-02  5.19653704e-02 -2.40368902e-02 -2.24985691e-03\n",
      "  3.95969467e-02  5.59092547e-03  3.50395856e-02 -7.17882882e-02\n",
      "  6.96823560e-03  1.34824446e-02  8.22047538e-03 -5.56528051e-02\n",
      "  5.31299556e-03  4.88950791e-02  7.67707842e-02  1.76448228e-02\n",
      "  7.71597970e-03  1.33572847e-02 -3.18372488e-02 -3.30618267e-04\n",
      "  3.92792038e-02  1.89095774e-02 -1.85055501e-02 -3.03948096e-03\n",
      " -5.83139433e-02 -3.31644732e-02 -4.87893841e-02  2.55114503e-02\n",
      "  2.59425989e-02  1.60801925e-02 -1.77697318e-03 -2.60347026e-02\n",
      "  3.36532965e-03  2.34024905e-02 -3.18444780e-03 -4.63370217e-03\n",
      " -4.47831670e-02  4.40523254e-02  5.17932833e-04 -8.96745139e-02\n",
      "  1.42413293e-02  1.64481170e-03 -2.52424535e-02  3.96587753e-02\n",
      "  1.53346925e-02  4.52531257e-02 -5.06628614e-02 -4.10123926e-02\n",
      " -9.82487683e-03 -5.68277202e-02 -5.16660187e-02 -1.29266871e-02\n",
      "  2.54547843e-02 -3.98342584e-02 -8.65577336e-02 -5.63713778e-02\n",
      " -6.13015151e-02  1.79440714e-02  5.31222829e-03  4.28413508e-02\n",
      " -4.02603856e-02  2.88250251e-02 -3.48351242e-02 -4.01289994e-02\n",
      " -6.01335053e-04 -1.04767699e-02 -3.95829924e-02 -3.97154149e-02\n",
      " -3.05833884e-02 -3.66219776e-02  8.34277147e-03  2.49209136e-03\n",
      "  3.70326870e-02  5.66304988e-02 -1.08730087e-02 -2.51351631e-02\n",
      " -4.39765662e-02 -4.18085480e-03 -1.08525877e-01 -4.80749314e-03\n",
      " -2.72179579e-02  3.85908726e-02 -3.12573938e-02 -3.96362214e-03\n",
      " -2.69966201e-02  5.95542372e-02 -2.73479765e-02  1.54053891e-02\n",
      "  6.74137189e-03  2.92910732e-02 -2.08298561e-02 -8.33186480e-02\n",
      "  1.48622283e-02  1.73755308e-02  3.82615877e-02  1.25002175e-02\n",
      "  7.91218422e-02 -4.22534608e-02  1.05812512e-02  2.51521212e-03\n",
      "  1.74933000e-02 -8.67023957e-03  5.93200983e-02  4.86144466e-02\n",
      "  3.85224426e-02 -1.33366633e-02 -9.05889631e-03  4.68309757e-02\n",
      " -6.09681234e-02 -4.16769456e-03 -2.63893739e-02 -4.70678866e-02\n",
      "  1.53419998e-02 -2.20506643e-02 -9.75910759e-03  4.96144550e-02\n",
      "  2.68155056e-02  8.99456005e-04 -1.12429353e-02  1.43181822e-02\n",
      "  7.79346679e-03 -3.54816089e-02 -4.33400868e-02 -8.70397334e-02\n",
      " -1.06762039e-02 -5.12086954e-03 -7.59949020e-02 -6.74556076e-03\n",
      " -6.93229614e-02 -4.79889139e-02  1.79529190e-02 -9.59503432e-02\n",
      "  1.16985177e-02  7.55117296e-03  4.11359955e-02  4.83423330e-02\n",
      "  1.41567601e-02  1.77426511e-02 -5.16675150e-02  1.84575670e-02\n",
      "  5.01541032e-02  2.43989972e-02  4.25376988e-02 -1.27029336e-02\n",
      "  1.27778286e-02  1.14454433e-02 -9.05525805e-03  3.95732157e-02\n",
      "  2.82808151e-02  3.22958757e-05 -4.19854263e-02 -7.13642438e-02\n",
      " -4.24900605e-02  2.99352053e-02  8.94953906e-03 -1.97144909e-02\n",
      "  3.01253269e-02 -4.28090057e-02 -7.54557629e-02  3.87672187e-02\n",
      " -2.60299332e-02  1.72486573e-02  2.30776144e-02 -3.46690657e-02\n",
      " -1.05562982e-02  1.43635681e-02  4.47278875e-02  7.55274836e-03\n",
      "  2.04147536e-02  1.69035409e-02 -9.22675868e-05 -6.07230173e-02\n",
      "  5.96236380e-02 -4.06360249e-02 -1.36881163e-02  7.63430914e-03\n",
      "  1.96431435e-02  2.33792511e-02  3.38442804e-02  8.79527589e-02\n",
      " -2.03296084e-02 -1.29178452e-02  7.83669091e-03  7.52893729e-02\n",
      "  2.22873638e-02  2.91774631e-02  1.38981360e-02 -2.35883883e-03\n",
      "  2.52540009e-02 -3.51589690e-02 -5.46535306e-02  1.88968015e-02\n",
      "  6.78762852e-04  8.09669191e-04 -3.52481986e-02  7.87383678e-02\n",
      "  2.06091928e-02 -1.83908323e-02 -1.51127890e-02  5.20183588e-02\n",
      "  2.29655189e-02 -6.21065878e-02 -3.16119053e-02 -6.78506741e-02\n",
      "  9.78680553e-03 -4.31549467e-02 -2.03618612e-02 -1.88804988e-02\n",
      "  4.54287840e-02  5.31658028e-02  9.52935228e-03 -1.63893878e-02\n",
      "  1.14043610e-01 -5.63748091e-03  5.26083774e-02 -1.18598925e-02\n",
      " -4.65292258e-02  1.11304610e-02  1.44452749e-02 -4.67964482e-02\n",
      " -2.49581598e-02 -3.44079287e-02 -2.25008901e-02  5.10692561e-02\n",
      " -1.28124452e-02  2.45425052e-02 -2.27058884e-02 -2.90983239e-02\n",
      " -3.83041701e-03  1.12766634e-02 -6.75351003e-02 -3.33844029e-02\n",
      "  5.35420787e-02  4.55376676e-02 -3.58660090e-02  7.35783233e-02\n",
      "  2.85202903e-02  4.97833950e-03 -1.36811493e-03  4.44794958e-02\n",
      " -7.13806339e-02 -1.57975154e-02  8.16037157e-03  4.59817465e-02\n",
      "  8.15164150e-02 -2.68348384e-02 -7.63663759e-03 -6.02725723e-02\n",
      " -2.80813955e-03  2.69636542e-02 -5.67058128e-02 -1.65991856e-02\n",
      "  6.39932008e-03 -1.28441666e-02  3.22858266e-02 -2.26165957e-02\n",
      "  4.62325951e-02 -4.95224187e-02  2.08996560e-02  4.37641789e-02\n",
      " -3.92504375e-02  1.61483646e-02  1.31250559e-04  2.65977347e-02\n",
      "  3.85974950e-02  5.49440290e-02 -2.56440193e-03 -5.24184881e-03\n",
      "  1.73666895e-02  6.29444398e-02  1.53765665e-02 -1.61673676e-02\n",
      "  2.18279695e-03  2.06312759e-02 -4.49812889e-02  1.03416110e-03\n",
      " -1.88199774e-02  2.43380780e-02 -2.85329561e-03  8.62473015e-03\n",
      " -4.04236452e-02 -4.32408565e-02 -2.68496875e-02  2.53176931e-02\n",
      "  2.91130770e-02  1.45910831e-02 -1.38974766e-02 -5.80083103e-02\n",
      "  4.68835272e-02 -2.45091188e-02  1.29816673e-02 -4.34706755e-02\n",
      " -1.89706549e-02 -5.68271733e-04  1.28518302e-02  2.51068707e-02\n",
      "  4.85779314e-02  2.76633669e-03  2.90791545e-02 -2.45422048e-02\n",
      " -5.48195503e-02  9.99000382e-03 -4.18934891e-03 -1.04073157e-03\n",
      " -4.88591327e-02  6.54554398e-03  9.37147848e-05 -2.29918243e-02\n",
      " -7.71583814e-03 -3.05650315e-02  1.52337022e-03 -3.23576686e-02\n",
      "  1.00771754e-02  1.28195641e-02 -2.60713236e-03 -8.22584530e-03\n",
      " -1.16647793e-02 -5.55214401e-03 -2.14710211e-02  5.41019002e-02\n",
      "  2.29808358e-02  1.23976886e-02  1.33799466e-02 -1.26935006e-02\n",
      " -3.68648230e-02  5.47169286e-02 -5.57707869e-02  4.72704877e-02\n",
      "  1.42056867e-02 -6.23183112e-05  1.70920876e-02 -8.04681509e-02\n",
      " -2.88046905e-02 -4.59110802e-02 -4.55566470e-02 -2.30652410e-02\n",
      " -2.13360018e-02  1.20998587e-03  5.96342357e-02 -3.40937819e-02\n",
      " -2.64493266e-02  8.78591318e-02 -1.49963330e-02  1.44664319e-02\n",
      " -1.23125299e-02  1.44175222e-02  2.20474503e-02 -1.19042036e-02\n",
      "  3.87999248e-02  4.08362459e-03  6.74779153e-02  3.27283665e-02\n",
      " -1.79646069e-02  4.50165303e-02 -8.99604348e-02 -4.00310046e-02\n",
      " -1.69786541e-02  4.58571371e-02  2.58676908e-02 -8.53972450e-03\n",
      " -4.23441124e-03 -1.67292529e-02 -2.57990951e-02 -4.63848973e-02\n",
      "  3.95177242e-02 -5.38312086e-03  2.83061692e-02  4.91021603e-02\n",
      "  1.12875202e-02 -4.28609414e-03 -5.95022048e-03  1.52118969e-02\n",
      "  6.69941867e-02 -1.45314200e-02  5.23980884e-03 -2.84705083e-02\n",
      "  5.97287776e-03  4.75715446e-03 -4.84575318e-02  2.02065797e-02\n",
      "  3.66270900e-02 -1.13007896e-02  4.60746209e-02 -5.37544110e-02\n",
      " -9.68879810e-03 -1.05117317e-02  6.48144026e-03  1.41044270e-02\n",
      "  3.31241199e-02 -4.66777043e-02  2.07779420e-02  7.23642404e-03\n",
      "  8.94125137e-02 -3.22676930e-02  2.19768878e-02  4.38303637e-02\n",
      "  6.32368603e-02  1.24085903e-03  5.14990235e-03 -3.83174951e-02\n",
      "  3.99834062e-04 -4.00686200e-02 -9.11123775e-03  4.70898744e-03\n",
      " -6.56486902e-04 -2.79275151e-02 -4.81386307e-02  1.08757893e-02\n",
      " -2.38029674e-02  8.34032611e-03  1.06831770e-02 -2.05832429e-02\n",
      " -2.96593094e-02 -2.93258295e-02 -2.19729211e-02  3.22228900e-02\n",
      "  1.77901396e-02 -1.16811874e-02 -8.92095894e-02 -3.46983239e-02\n",
      "  2.93048528e-02 -4.26360361e-03 -4.98654138e-02  5.11587725e-03\n",
      " -1.20594354e-02 -5.62594133e-03  4.66756640e-02 -1.57403963e-03\n",
      " -1.31259660e-02 -2.28955581e-04  2.32223662e-02 -7.76815095e-04\n",
      " -6.76100671e-02 -2.60467055e-02 -4.22469894e-02  3.72670242e-02\n",
      " -6.93134926e-03 -7.22050908e-03 -2.42110532e-02 -2.70220562e-02\n",
      " -7.03455695e-02  1.38024893e-02  2.36294274e-02 -3.47254608e-02]\n"
     ]
    }
   ],
   "source": [
    "print(embedding_model.encode_documents(text_lines)[0])"
   ]
  },
  {
   "cell_type": "markdown",
   "id": "bd971f6b",
   "metadata": {},
   "source": [
    "## 构建 RAG"
   ]
  },
  {
   "cell_type": "markdown",
   "id": "534dc076",
   "metadata": {},
   "source": [
    "### 检索查询数据"
   ]
  },
  {
   "cell_type": "markdown",
   "id": "5a6fd7e7",
   "metadata": {},
   "source": [
    "我们指定一个关于 Milvus 的常见问题。"
   ]
  },
  {
   "cell_type": "code",
   "execution_count": 41,
   "id": "6e2f5c6a",
   "metadata": {},
   "outputs": [],
   "source": [
    "question = \"How is data stored in milvus?\""
   ]
  },
  {
   "cell_type": "markdown",
   "id": "52401a38",
   "metadata": {},
   "source": [
    "在 collection 中搜索该问题，并检索语义上最匹配的前3个结果。"
   ]
  },
  {
   "cell_type": "code",
   "execution_count": 49,
   "id": "0dd4cbac",
   "metadata": {},
   "outputs": [],
   "source": [
    "search_res = milvus_client.search(\n",
    "    collection_name=collection_name,\n",
    "    data=embedding_model.encode_queries(\n",
    "        [question]\n",
    "    ),  # 将问题转换为嵌入向量\n",
    "    limit=4,  # 返回前3个结果\n",
    "    search_params={\"metric_type\": \"IP\", \"params\": {}},  # 内积距离\n",
    "    output_fields=[\"text\"],  # 返回 text 字段\n",
    ")"
   ]
  },
  {
   "cell_type": "code",
   "execution_count": 50,
   "id": "73c53604",
   "metadata": {},
   "outputs": [
    {
     "data": {
      "text/plain": [
       "data: [[{'id': 12, 'distance': 0.65726637840271, 'entity': {'text': ' Where does Milvus store data?\\n\\nMilvus deals with two types of data, inserted data and metadata. \\n\\nInserted data, including vector data, scalar data, and collection-specific schema, are stored in persistent storage as incremental log. Milvus supports multiple object storage backends, including [MinIO](https://min.io/), [AWS S3](https://aws.amazon.com/s3/?nc1=h_ls), [Google Cloud Storage](https://cloud.google.com/storage?hl=en#object-storage-for-companies-of-all-sizes) (GCS), [Azure Blob Storage](https://azure.microsoft.com/en-us/products/storage/blobs), [Alibaba Cloud OSS](https://www.alibabacloud.com/product/object-storage-service), and [Tencent Cloud Object Storage](https://www.tencentcloud.com/products/cos) (COS).\\n\\nMetadata are generated within Milvus. Each Milvus module has its own metadata that are stored in etcd.\\n\\n###'}}, {'id': 23, 'distance': 0.6312143802642822, 'entity': {'text': \"How does Milvus flush data?\\n\\nMilvus returns success when inserted data are loaded to the message queue. However, the data are not yet flushed to the disk. Then Milvus' data node writes the data in the message queue to persistent storage as incremental logs. If `flush()` is called, the data node is forced to write all data in the message queue to persistent storage immediately.\\n\\n###\"}}]]"
      ]
     },
     "execution_count": 50,
     "metadata": {},
     "output_type": "execute_result"
    }
   ],
   "source": [
    "search_res"
   ]
  },
  {
   "cell_type": "code",
   "execution_count": 55,
   "id": "f7ec690a",
   "metadata": {},
   "outputs": [
    {
     "data": {
      "text/plain": [
       "{'id': 23, 'distance': 0.6312143802642822, 'entity': {'text': \"How does Milvus flush data?\\n\\nMilvus returns success when inserted data are loaded to the message queue. However, the data are not yet flushed to the disk. Then Milvus' data node writes the data in the message queue to persistent storage as incremental logs. If `flush()` is called, the data node is forced to write all data in the message queue to persistent storage immediately.\\n\\n###\"}}"
      ]
     },
     "execution_count": 55,
     "metadata": {},
     "output_type": "execute_result"
    }
   ],
   "source": [
    "search_res[0][1]"
   ]
  },
  {
   "cell_type": "markdown",
   "id": "ffcce135",
   "metadata": {},
   "source": [
    "让我们看一下查询的搜索结果"
   ]
  },
  {
   "cell_type": "code",
   "execution_count": 56,
   "id": "6a7f6eb3",
   "metadata": {},
   "outputs": [
    {
     "name": "stdout",
     "output_type": "stream",
     "text": [
      "[\n",
      "    [\n",
      "        \" Where does Milvus store data?\\n\\nMilvus deals with two types of data, inserted data and metadata. \\n\\nInserted data, including vector data, scalar data, and collection-specific schema, are stored in persistent storage as incremental log. Milvus supports multiple object storage backends, including [MinIO](https://min.io/), [AWS S3](https://aws.amazon.com/s3/?nc1=h_ls), [Google Cloud Storage](https://cloud.google.com/storage?hl=en#object-storage-for-companies-of-all-sizes) (GCS), [Azure Blob Storage](https://azure.microsoft.com/en-us/products/storage/blobs), [Alibaba Cloud OSS](https://www.alibabacloud.com/product/object-storage-service), and [Tencent Cloud Object Storage](https://www.tencentcloud.com/products/cos) (COS).\\n\\nMetadata are generated within Milvus. Each Milvus module has its own metadata that are stored in etcd.\\n\\n###\",\n",
      "        0.65726637840271\n",
      "    ],\n",
      "    [\n",
      "        \"How does Milvus flush data?\\n\\nMilvus returns success when inserted data are loaded to the message queue. However, the data are not yet flushed to the disk. Then Milvus' data node writes the data in the message queue to persistent storage as incremental logs. If `flush()` is called, the data node is forced to write all data in the message queue to persistent storage immediately.\\n\\n###\",\n",
      "        0.6312143802642822\n",
      "    ]\n",
      "]\n"
     ]
    }
   ],
   "source": [
    "import json\n",
    "\n",
    "retrieved_lines_with_distances = [\n",
    "    (res[\"entity\"][\"text\"], res[\"distance\"]) for res in search_res[0]\n",
    "]\n",
    "print(json.dumps(retrieved_lines_with_distances, indent=4))"
   ]
  },
  {
   "cell_type": "markdown",
   "id": "ccd4c186",
   "metadata": {},
   "source": [
    "### 使用 LLM 获取 RAG 响应"
   ]
  },
  {
   "cell_type": "markdown",
   "id": "4cd1ae3a",
   "metadata": {},
   "source": [
    "将检索到的文档转换为字符串格式。"
   ]
  },
  {
   "cell_type": "code",
   "execution_count": 58,
   "id": "0676448f",
   "metadata": {},
   "outputs": [],
   "source": [
    "context = \"\\n\".join(\n",
    "    [line_with_distance[0] for line_with_distance in retrieved_lines_with_distances]\n",
    ")"
   ]
  },
  {
   "cell_type": "code",
   "execution_count": 59,
   "id": "107df42a-b3f7-48a8-b66b-fc82fe3ec174",
   "metadata": {},
   "outputs": [
    {
     "data": {
      "text/plain": [
       "\" Where does Milvus store data?\\n\\nMilvus deals with two types of data, inserted data and metadata. \\n\\nInserted data, including vector data, scalar data, and collection-specific schema, are stored in persistent storage as incremental log. Milvus supports multiple object storage backends, including [MinIO](https://min.io/), [AWS S3](https://aws.amazon.com/s3/?nc1=h_ls), [Google Cloud Storage](https://cloud.google.com/storage?hl=en#object-storage-for-companies-of-all-sizes) (GCS), [Azure Blob Storage](https://azure.microsoft.com/en-us/products/storage/blobs), [Alibaba Cloud OSS](https://www.alibabacloud.com/product/object-storage-service), and [Tencent Cloud Object Storage](https://www.tencentcloud.com/products/cos) (COS).\\n\\nMetadata are generated within Milvus. Each Milvus module has its own metadata that are stored in etcd.\\n\\n###\\nHow does Milvus flush data?\\n\\nMilvus returns success when inserted data are loaded to the message queue. However, the data are not yet flushed to the disk. Then Milvus' data node writes the data in the message queue to persistent storage as incremental logs. If `flush()` is called, the data node is forced to write all data in the message queue to persistent storage immediately.\\n\\n###\""
      ]
     },
     "execution_count": 59,
     "metadata": {},
     "output_type": "execute_result"
    }
   ],
   "source": [
    "context"
   ]
  },
  {
   "cell_type": "code",
   "execution_count": 60,
   "id": "19998758-7f98-4cb8-8789-625fcfaad00e",
   "metadata": {},
   "outputs": [
    {
     "data": {
      "text/plain": [
       "'How is data stored in milvus?'"
      ]
     },
     "execution_count": 60,
     "metadata": {},
     "output_type": "execute_result"
    }
   ],
   "source": [
    "question"
   ]
  },
  {
   "cell_type": "markdown",
   "id": "7ad25756",
   "metadata": {},
   "source": [
    "为语言模型定义系统和用户提示。此提示是使用从 Milvus 检索到的文档组装而成的。"
   ]
  },
  {
   "cell_type": "code",
   "execution_count": 61,
   "id": "b655f6f3",
   "metadata": {},
   "outputs": [],
   "source": [
    "SYSTEM_PROMPT = \"\"\"\n",
    "Human: 你是一个 AI 助手。你能够从提供的上下文段落片段中找到问题的答案。\n",
    "\"\"\"\n",
    "USER_PROMPT = f\"\"\"\n",
    "请使用以下用 <context> 标签括起来的信息片段来回答用 <question> 标签括起来的问题。最后追加原始回答的中文翻译，并用 <translated>和</translated> 标签标注。\n",
    "<context>\n",
    "{context}\n",
    "</context>\n",
    "<question>\n",
    "{question}\n",
    "</question>\n",
    "<translated>\n",
    "</translated>\n",
    "\"\"\""
   ]
  },
  {
   "cell_type": "code",
   "execution_count": 62,
   "id": "97089c31-f85c-47a9-8498-78520513bc67",
   "metadata": {},
   "outputs": [
    {
     "data": {
      "text/plain": [
       "\"\\n请使用以下用 <context> 标签括起来的信息片段来回答用 <question> 标签括起来的问题。最后追加原始回答的中文翻译，并用 <translated>和</translated> 标签标注。\\n<context>\\n Where does Milvus store data?\\n\\nMilvus deals with two types of data, inserted data and metadata. \\n\\nInserted data, including vector data, scalar data, and collection-specific schema, are stored in persistent storage as incremental log. Milvus supports multiple object storage backends, including [MinIO](https://min.io/), [AWS S3](https://aws.amazon.com/s3/?nc1=h_ls), [Google Cloud Storage](https://cloud.google.com/storage?hl=en#object-storage-for-companies-of-all-sizes) (GCS), [Azure Blob Storage](https://azure.microsoft.com/en-us/products/storage/blobs), [Alibaba Cloud OSS](https://www.alibabacloud.com/product/object-storage-service), and [Tencent Cloud Object Storage](https://www.tencentcloud.com/products/cos) (COS).\\n\\nMetadata are generated within Milvus. Each Milvus module has its own metadata that are stored in etcd.\\n\\n###\\nHow does Milvus flush data?\\n\\nMilvus returns success when inserted data are loaded to the message queue. However, the data are not yet flushed to the disk. Then Milvus' data node writes the data in the message queue to persistent storage as incremental logs. If `flush()` is called, the data node is forced to write all data in the message queue to persistent storage immediately.\\n\\n###\\n</context>\\n<question>\\nHow is data stored in milvus?\\n</question>\\n<translated>\\n</translated>\\n\""
      ]
     },
     "execution_count": 62,
     "metadata": {},
     "output_type": "execute_result"
    }
   ],
   "source": [
    "USER_PROMPT"
   ]
  },
  {
   "cell_type": "markdown",
   "id": "184b457f",
   "metadata": {},
   "source": [
    "使用 DeepSeek 提供的 `deepseek-chat` 模型根据提示生成响应。"
   ]
  },
  {
   "cell_type": "code",
   "execution_count": 63,
   "id": "638a7561",
   "metadata": {},
   "outputs": [
    {
     "name": "stdout",
     "output_type": "stream",
     "text": [
      "Milvus stores data in two main categories: inserted data and metadata.\n",
      "\n",
      "1. **Inserted Data** (including vector data, scalar data, and collection-specific schema) is stored as incremental logs in persistent storage. Milvus supports various object storage backends for this purpose, such as MinIO, AWS S3, Google Cloud Storage (GCS), Azure Blob Storage, Alibaba Cloud OSS, and Tencent Cloud Object Storage (COS).\n",
      "\n",
      "2. **Metadata** (generated internally by Milvus) is stored in etcd, with each module maintaining its own metadata.\n",
      "\n",
      "Additionally, during insertion, data is first loaded into a message queue, and the data node later writes it to persistent storage. Calling `flush()` forces immediate writing of all queued data to disk.\n",
      "\n",
      "<translated>\n",
      "Milvus以两种主要类型存储数据：插入的数据和元数据。\n",
      "\n",
      "1. **插入的数据**（包括向量数据、标量数据和集合特定的模式）以增量日志的形式存储在持久化存储中。Milvus支持多种对象存储后端，如MinIO、AWS S3、Google Cloud Storage (GCS)、Azure Blob Storage、阿里云OSS和腾讯云对象存储(COS)。\n",
      "\n",
      "2. **元数据**（由Milvus内部生成）存储在etcd中，每个模块维护其自己的元数据。\n",
      "\n",
      "此外，在插入过程中，数据首先被加载到消息队列中，随后由数据节点将其写入持久化存储。调用`flush()`会强制立即将所有队列中的数据写入磁盘。\n",
      "</translated>\n"
     ]
    }
   ],
   "source": [
    "response = deepseek_client.chat.completions.create(\n",
    "    # model=\"deepseek-chat\",\n",
    "    model=\"Pro/deepseek-ai/DeepSeek-V3\",\n",
    "    messages=[\n",
    "        {\"role\": \"system\", \"content\": SYSTEM_PROMPT},\n",
    "        {\"role\": \"user\", \"content\": USER_PROMPT},\n",
    "    ],\n",
    ")\n",
    "print(response.choices[0].message.content)"
   ]
  },
  {
   "cell_type": "code",
   "execution_count": null,
   "id": "50ce3b55-7daa-4727-95bd-3b00f6aa2b03",
   "metadata": {},
   "outputs": [],
   "source": []
  }
 ],
 "metadata": {
  "kernelspec": {
   "display_name": "Python 3 (ipykernel)",
   "language": "python",
   "name": "python3"
  },
  "language_info": {
   "codemirror_mode": {
    "name": "ipython",
    "version": 3
   },
   "file_extension": ".py",
   "mimetype": "text/x-python",
   "name": "python",
   "nbconvert_exporter": "python",
   "pygments_lexer": "ipython3",
   "version": "3.13.2"
  }
 },
 "nbformat": 4,
 "nbformat_minor": 5
}
